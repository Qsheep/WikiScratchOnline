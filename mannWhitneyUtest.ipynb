{
 "cells": [
  {
   "cell_type": "markdown",
   "metadata": {},
   "source": [
    "# Mann-Whitney U test\n",
    "### A real-world example from scratch\n",
    "## Introduction\n",
    "The Mann-Whitney U test is employed to evaluate significant differences between two independent groups. The process entails ranking all data points collectively, irrespective of their group affiliation. Subsequently, the U statistic, which signifies the sum of ranks for one group, is computed. This test is non-parametric, indicating it doesn't hinge on the assumption of normal distribution. It acts as an alternative to the independent t-test and is known by monikers such as Wilcoxon Rank Sum Test or Wilcoxon–Mann–Whitney test. The following is an illustrative example in a real-world scenario.\n",
    "### Hypotheses\n",
    "- Null hypotheses: median1 = median2\n",
    "- Alternative hypotheses: median1 ≠ median2\n",
    "### Assumptions\n",
    "**Independence**: The observations in one group are assumed to be independent of the observations in the other group.\n",
    "\n",
    "**Ordinal Scale**: The data should be measured on an ordinal scale, which means the values can be ranked. This is necessary because the test is based on the ranks of the observations.\n",
    "\n",
    "**Random Sampling**: The data should be collected through a random sampling process.\n",
    "\n",
    "**Equal Shape of Distributions**: The Mann-Whitney U test assumes that the shapes of the distributions for both groups are similar.\n",
    "### Output\n",
    "- U statistics\n",
    "- p value\n",
    "### Skewness\n",
    "Pearson's second coefficient can be used to evaluate the skewness of data.\n",
    "Pearson's second coefficient = 3*(mean - median)/standard deviation\n",
    "- the skewness is between -0.5 & 0.5, the data are nearly symmetrical.\n",
    "- the skewness is between -1 & -0.5 (negative skewed) or between 0.5 & 1(positive skewed), the data are slightly skewed.\n",
    "- the skewness is lower than -1 (negative skewed) or greater than 1 (positive skewed), the data are extremely skewed."
   ]
  },
  {
   "cell_type": "markdown",
   "metadata": {},
   "source": [
    "## Generate skewed data\n",
    "Firstly, let's generate two skewed data samples. For example, the data in reality can the efficiency (shunt resistance, fill factor, power) of solar cells from test A and test B. The difference between group A and B can be the production machines, supttering material, or substract holders.\n",
    "Let's use Gamma distribution to simulate the efficiencies of solar cells. The probability density for the Gamma distribution is as follows:\n",
    "\\begin{equation}\n",
    "      p(x) = x^{k-1}\\frac{e^{-x/\\theta}}{\\theta^k\\Gamma(k)}\n",
    "\\end{equation}\n",
    "where $k$ is the shape and $\\theta$ the scale,\n",
    "and $\\Gamma$ is the Gamma function. Suppose there are 50 samples in each test group."
   ]
  },
  {
   "cell_type": "code",
   "execution_count": 34,
   "metadata": {
    "tags": []
   },
   "outputs": [
    {
     "data": {
      "application/vnd.plotly.v1+json": {
       "config": {
        "plotlyServerURL": "https://plot.ly"
       },
       "data": [
        {
         "boxpoints": "all",
         "jitter": 0.3,
         "line": {
          "color": "rgb(255, 127, 14)",
          "width": 1
         },
         "marker": {
          "color": "rgba(255, 127, 14, 0.4)"
         },
         "name": "groupA",
         "pointpos": -1.8,
         "showlegend": false,
         "type": "box",
         "x": [
          16.275492370823738,
          15.360103916962828,
          14.100785051161203,
          13.193319767098071,
          14.440138280004703,
          17.747313235042455,
          16.40863141902158,
          16.341543628322825,
          15.773098778883476,
          15.869547192919,
          15.729934061355005,
          14.457259243906462,
          16.666438933467425,
          17.156438328432632,
          16.453250953967068,
          16.743379597481457,
          16.071943619571748,
          17.601723171750333,
          13.250754924974519,
          16.825218139074398,
          14.100508662097008,
          15.836467837612409,
          12.3700811113443,
          13.057141758152117,
          13.471325881349255,
          16.17128483808451,
          10.209346195861443,
          16.879640020065278,
          12.349823852658604,
          17.058178859172894,
          14.145788000749452,
          15.809049250817564,
          17.468818201553404,
          15.274462145178706,
          17.207995186151592,
          11.268956321178596,
          14.885700188068018,
          16.642261119004907,
          16.41307721788903,
          15.019401389675854,
          17.473488360022003,
          13.191641588606089,
          15.344002692252054,
          11.871635488453567,
          17.526118504297685,
          16.28262489477656,
          15.845113742406305,
          14.937493091090122,
          17.66636693773901,
          16.43627516861795
         ],
         "xaxis": "x",
         "yaxis": "y"
        },
        {
         "boxpoints": "all",
         "jitter": 0.3,
         "line": {
          "color": "rgb(148, 103, 189)",
          "width": 1
         },
         "marker": {
          "color": "rgba(148, 103, 189, 0.4)"
         },
         "name": "groupB",
         "pointpos": -1.8,
         "showlegend": false,
         "type": "box",
         "x": [
          15.108155116395315,
          16.071123035050007,
          14.200368667891455,
          15.221294922427699,
          14.71597958620175,
          14.973402958073747,
          15.344011384608526,
          14.442489148423846,
          10.540927334768519,
          14.184922001906463,
          16.10043977498898,
          15.312852269218233,
          15.739365647716223,
          15.245095556043353,
          15.820758062483476,
          13.029860410916948,
          13.288190187364037,
          15.327444767467055,
          15.887408774156683,
          16.405585328370016,
          16.58799433721516,
          16.57694938756999,
          15.29726647323421,
          14.588699955241323,
          15.723978537265289,
          14.904165256096926,
          15.626066157890868,
          15.07175348029924,
          9.291824524800992,
          14.96591816665844,
          15.202978998203761,
          11.704205692275718,
          16.69914506738668,
          15.420013290602634,
          16.853492499400975,
          14.896656277108626,
          16.26176763790144,
          15.884338467526806,
          14.382296689163264,
          15.414764110013497,
          11.4975595145473,
          15.033482244102444,
          16.674550627540604,
          16.174571023438247,
          11.599798868443589,
          14.367536781707614,
          15.33220570663442,
          14.406904286790668,
          16.48261708468427,
          15.914557186287375
         ],
         "xaxis": "x",
         "yaxis": "y"
        },
        {
         "histnorm": "probability density",
         "marker": {
          "color": "rgba(255, 127, 14, 0.4)",
          "line": {
           "color": "rgb(255, 127, 14)",
           "width": 1
          }
         },
         "name": "groupA",
         "type": "histogram",
         "x": [
          16.275492370823738,
          15.360103916962828,
          14.100785051161203,
          13.193319767098071,
          14.440138280004703,
          17.747313235042455,
          16.40863141902158,
          16.341543628322825,
          15.773098778883476,
          15.869547192919,
          15.729934061355005,
          14.457259243906462,
          16.666438933467425,
          17.156438328432632,
          16.453250953967068,
          16.743379597481457,
          16.071943619571748,
          17.601723171750333,
          13.250754924974519,
          16.825218139074398,
          14.100508662097008,
          15.836467837612409,
          12.3700811113443,
          13.057141758152117,
          13.471325881349255,
          16.17128483808451,
          10.209346195861443,
          16.879640020065278,
          12.349823852658604,
          17.058178859172894,
          14.145788000749452,
          15.809049250817564,
          17.468818201553404,
          15.274462145178706,
          17.207995186151592,
          11.268956321178596,
          14.885700188068018,
          16.642261119004907,
          16.41307721788903,
          15.019401389675854,
          17.473488360022003,
          13.191641588606089,
          15.344002692252054,
          11.871635488453567,
          17.526118504297685,
          16.28262489477656,
          15.845113742406305,
          14.937493091090122,
          17.66636693773901,
          16.43627516861795
         ],
         "xaxis": "x2",
         "xbins": {
          "size": 0.3
         },
         "yaxis": "y2"
        },
        {
         "histnorm": "probability density",
         "marker": {
          "color": "rgba(148, 103, 189, 0.4)",
          "line": {
           "color": "rgb(148, 103, 189)",
           "width": 1
          }
         },
         "name": "groupB",
         "type": "histogram",
         "x": [
          15.108155116395315,
          16.071123035050007,
          14.200368667891455,
          15.221294922427699,
          14.71597958620175,
          14.973402958073747,
          15.344011384608526,
          14.442489148423846,
          10.540927334768519,
          14.184922001906463,
          16.10043977498898,
          15.312852269218233,
          15.739365647716223,
          15.245095556043353,
          15.820758062483476,
          13.029860410916948,
          13.288190187364037,
          15.327444767467055,
          15.887408774156683,
          16.405585328370016,
          16.58799433721516,
          16.57694938756999,
          15.29726647323421,
          14.588699955241323,
          15.723978537265289,
          14.904165256096926,
          15.626066157890868,
          15.07175348029924,
          9.291824524800992,
          14.96591816665844,
          15.202978998203761,
          11.704205692275718,
          16.69914506738668,
          15.420013290602634,
          16.853492499400975,
          14.896656277108626,
          16.26176763790144,
          15.884338467526806,
          14.382296689163264,
          15.414764110013497,
          11.4975595145473,
          15.033482244102444,
          16.674550627540604,
          16.174571023438247,
          11.599798868443589,
          14.367536781707614,
          15.33220570663442,
          14.406904286790668,
          16.48261708468427,
          15.914557186287375
         ],
         "xaxis": "x2",
         "xbins": {
          "size": 0.3
         },
         "yaxis": "y2"
        },
        {
         "line": {
          "color": "rgb(255, 127, 14)",
          "dash": "solid",
          "width": 1.5
         },
         "mode": "lines",
         "name": "groupA",
         "type": "scatter",
         "x": [
          10.209346195861443,
          11.268956321178596,
          11.871635488453567,
          12.349823852658604,
          12.3700811113443,
          13.057141758152117,
          13.191641588606089,
          13.193319767098071,
          13.250754924974519,
          13.471325881349255,
          14.100508662097008,
          14.100785051161203,
          14.145788000749452,
          14.440138280004703,
          14.457259243906462,
          14.885700188068018,
          14.937493091090122,
          15.019401389675854,
          15.274462145178706,
          15.344002692252054,
          15.360103916962828,
          15.729934061355005,
          15.773098778883476,
          15.809049250817564,
          15.836467837612409,
          15.845113742406305,
          15.869547192919,
          16.071943619571748,
          16.17128483808451,
          16.275492370823738,
          16.28262489477656,
          16.341543628322825,
          16.40863141902158,
          16.41307721788903,
          16.43627516861795,
          16.453250953967068,
          16.642261119004907,
          16.666438933467425,
          16.743379597481457,
          16.825218139074398,
          16.879640020065278,
          17.058178859172894,
          17.156438328432632,
          17.207995186151592,
          17.468818201553404,
          17.473488360022003,
          17.526118504297685,
          17.601723171750333,
          17.66636693773901,
          17.747313235042455
         ],
         "xaxis": "x2",
         "y": [
          0.0032220772486784774,
          0.008032066243560957,
          0.013360714952156912,
          0.019871088831716358,
          0.020205026809132897,
          0.035263230510934634,
          0.03924219640842674,
          0.03929438807653285,
          0.041120051673552524,
          0.04888694404782997,
          0.07897331886456213,
          0.07898955020619204,
          0.08167188810403378,
          0.10125228365994626,
          0.10250536876090874,
          0.1383047819263306,
          0.1432343645881545,
          0.15130245170863982,
          0.1785525955422233,
          0.18652740821019526,
          0.18840591353553926,
          0.23450999727252084,
          0.24019836193219288,
          0.2449710674344042,
          0.24862985467395934,
          0.24978660237644681,
          0.25306263177500166,
          0.28039836866977697,
          0.29372787398590156,
          0.30741211059340573,
          0.3083320224403902,
          0.3158243423757384,
          0.3240769821384857,
          0.324611564287552,
          0.32737330826204525,
          0.3293633575658175,
          0.34926715853680224,
          0.35144283632504814,
          0.3576521169549775,
          0.3628740840308597,
          0.36541925687736726,
          0.36723216270917286,
          0.36287968811856314,
          0.3587273596306799,
          0.3122869679513853,
          0.31099032412966154,
          0.29502962813968486,
          0.26743337867067113,
          0.23898689333129483,
          0.19626462448209622
         ],
         "yaxis": "y2"
        },
        {
         "line": {
          "color": "rgb(148, 103, 189)",
          "dash": "dash",
          "width": 1.5
         },
         "mode": "lines",
         "name": "groupB",
         "type": "scatter",
         "x": [
          9.291824524800992,
          10.540927334768519,
          11.4975595145473,
          11.599798868443589,
          11.704205692275718,
          13.029860410916948,
          13.288190187364037,
          14.184922001906463,
          14.200368667891455,
          14.367536781707614,
          14.382296689163264,
          14.406904286790668,
          14.442489148423846,
          14.588699955241323,
          14.71597958620175,
          14.896656277108626,
          14.904165256096926,
          14.96591816665844,
          14.973402958073747,
          15.033482244102444,
          15.07175348029924,
          15.108155116395315,
          15.202978998203761,
          15.221294922427699,
          15.245095556043353,
          15.29726647323421,
          15.312852269218233,
          15.327444767467055,
          15.33220570663442,
          15.344011384608526,
          15.414764110013497,
          15.420013290602634,
          15.626066157890868,
          15.723978537265289,
          15.739365647716223,
          15.820758062483476,
          15.884338467526806,
          15.887408774156683,
          15.914557186287375,
          16.071123035050007,
          16.10043977498898,
          16.174571023438247,
          16.26176763790144,
          16.405585328370016,
          16.48261708468427,
          16.57694938756999,
          16.58799433721516,
          16.674550627540604,
          16.69914506738668,
          16.853492499400975
         ],
         "xaxis": "x2",
         "y": [
          0.0034620514548998507,
          0.010116506239150592,
          0.022432403804910513,
          0.02438554032210593,
          0.026545863892592413,
          0.07491970536885843,
          0.09069162759883273,
          0.16862330289817903,
          0.17030853234815435,
          0.18927709518555413,
          0.19101449258254657,
          0.19393285362175097,
          0.19820044939626952,
          0.2162902539539865,
          0.23268185577819597,
          0.2567081620742655,
          0.25771967285080216,
          0.2660589697954593,
          0.26707146705673607,
          0.2752010344958146,
          0.2803727058047592,
          0.2852776387818832,
          0.2979317913031934,
          0.30034620214705454,
          0.3034646843891419,
          0.31021222772895746,
          0.3122009084916157,
          0.3140501174420851,
          0.314650643980523,
          0.3161335796782291,
          0.3248139678220916,
          0.32544224292532126,
          0.3477554419345407,
          0.35619588609114855,
          0.3573572476670535,
          0.3626307676778178,
          0.3656005259427145,
          0.3657155281118037,
          0.3666106890512233,
          0.36690366739390956,
          0.3658947705903999,
          0.36157672011209424,
          0.35284408250498744,
          0.3280488415821171,
          0.3084008301949408,
          0.2771173909882673,
          0.2728798070693338,
          0.23504042939667377,
          0.22268835092236428,
          0.12654134910794926
         ],
         "yaxis": "y2"
        }
       ],
       "layout": {
        "barmode": "overlay",
        "height": 300,
        "margin": {
         "b": 2,
         "l": 20,
         "r": 2,
         "t": 50
        },
        "template": {
         "data": {
          "bar": [
           {
            "error_x": {
             "color": "#2a3f5f"
            },
            "error_y": {
             "color": "#2a3f5f"
            },
            "marker": {
             "line": {
              "color": "#E5ECF6",
              "width": 0.5
             },
             "pattern": {
              "fillmode": "overlay",
              "size": 10,
              "solidity": 0.2
             }
            },
            "type": "bar"
           }
          ],
          "barpolar": [
           {
            "marker": {
             "line": {
              "color": "#E5ECF6",
              "width": 0.5
             },
             "pattern": {
              "fillmode": "overlay",
              "size": 10,
              "solidity": 0.2
             }
            },
            "type": "barpolar"
           }
          ],
          "carpet": [
           {
            "aaxis": {
             "endlinecolor": "#2a3f5f",
             "gridcolor": "white",
             "linecolor": "white",
             "minorgridcolor": "white",
             "startlinecolor": "#2a3f5f"
            },
            "baxis": {
             "endlinecolor": "#2a3f5f",
             "gridcolor": "white",
             "linecolor": "white",
             "minorgridcolor": "white",
             "startlinecolor": "#2a3f5f"
            },
            "type": "carpet"
           }
          ],
          "choropleth": [
           {
            "colorbar": {
             "outlinewidth": 0,
             "ticks": ""
            },
            "type": "choropleth"
           }
          ],
          "contour": [
           {
            "colorbar": {
             "outlinewidth": 0,
             "ticks": ""
            },
            "colorscale": [
             [
              0,
              "#0d0887"
             ],
             [
              0.1111111111111111,
              "#46039f"
             ],
             [
              0.2222222222222222,
              "#7201a8"
             ],
             [
              0.3333333333333333,
              "#9c179e"
             ],
             [
              0.4444444444444444,
              "#bd3786"
             ],
             [
              0.5555555555555556,
              "#d8576b"
             ],
             [
              0.6666666666666666,
              "#ed7953"
             ],
             [
              0.7777777777777778,
              "#fb9f3a"
             ],
             [
              0.8888888888888888,
              "#fdca26"
             ],
             [
              1,
              "#f0f921"
             ]
            ],
            "type": "contour"
           }
          ],
          "contourcarpet": [
           {
            "colorbar": {
             "outlinewidth": 0,
             "ticks": ""
            },
            "type": "contourcarpet"
           }
          ],
          "heatmap": [
           {
            "colorbar": {
             "outlinewidth": 0,
             "ticks": ""
            },
            "colorscale": [
             [
              0,
              "#0d0887"
             ],
             [
              0.1111111111111111,
              "#46039f"
             ],
             [
              0.2222222222222222,
              "#7201a8"
             ],
             [
              0.3333333333333333,
              "#9c179e"
             ],
             [
              0.4444444444444444,
              "#bd3786"
             ],
             [
              0.5555555555555556,
              "#d8576b"
             ],
             [
              0.6666666666666666,
              "#ed7953"
             ],
             [
              0.7777777777777778,
              "#fb9f3a"
             ],
             [
              0.8888888888888888,
              "#fdca26"
             ],
             [
              1,
              "#f0f921"
             ]
            ],
            "type": "heatmap"
           }
          ],
          "heatmapgl": [
           {
            "colorbar": {
             "outlinewidth": 0,
             "ticks": ""
            },
            "colorscale": [
             [
              0,
              "#0d0887"
             ],
             [
              0.1111111111111111,
              "#46039f"
             ],
             [
              0.2222222222222222,
              "#7201a8"
             ],
             [
              0.3333333333333333,
              "#9c179e"
             ],
             [
              0.4444444444444444,
              "#bd3786"
             ],
             [
              0.5555555555555556,
              "#d8576b"
             ],
             [
              0.6666666666666666,
              "#ed7953"
             ],
             [
              0.7777777777777778,
              "#fb9f3a"
             ],
             [
              0.8888888888888888,
              "#fdca26"
             ],
             [
              1,
              "#f0f921"
             ]
            ],
            "type": "heatmapgl"
           }
          ],
          "histogram": [
           {
            "marker": {
             "pattern": {
              "fillmode": "overlay",
              "size": 10,
              "solidity": 0.2
             }
            },
            "type": "histogram"
           }
          ],
          "histogram2d": [
           {
            "colorbar": {
             "outlinewidth": 0,
             "ticks": ""
            },
            "colorscale": [
             [
              0,
              "#0d0887"
             ],
             [
              0.1111111111111111,
              "#46039f"
             ],
             [
              0.2222222222222222,
              "#7201a8"
             ],
             [
              0.3333333333333333,
              "#9c179e"
             ],
             [
              0.4444444444444444,
              "#bd3786"
             ],
             [
              0.5555555555555556,
              "#d8576b"
             ],
             [
              0.6666666666666666,
              "#ed7953"
             ],
             [
              0.7777777777777778,
              "#fb9f3a"
             ],
             [
              0.8888888888888888,
              "#fdca26"
             ],
             [
              1,
              "#f0f921"
             ]
            ],
            "type": "histogram2d"
           }
          ],
          "histogram2dcontour": [
           {
            "colorbar": {
             "outlinewidth": 0,
             "ticks": ""
            },
            "colorscale": [
             [
              0,
              "#0d0887"
             ],
             [
              0.1111111111111111,
              "#46039f"
             ],
             [
              0.2222222222222222,
              "#7201a8"
             ],
             [
              0.3333333333333333,
              "#9c179e"
             ],
             [
              0.4444444444444444,
              "#bd3786"
             ],
             [
              0.5555555555555556,
              "#d8576b"
             ],
             [
              0.6666666666666666,
              "#ed7953"
             ],
             [
              0.7777777777777778,
              "#fb9f3a"
             ],
             [
              0.8888888888888888,
              "#fdca26"
             ],
             [
              1,
              "#f0f921"
             ]
            ],
            "type": "histogram2dcontour"
           }
          ],
          "mesh3d": [
           {
            "colorbar": {
             "outlinewidth": 0,
             "ticks": ""
            },
            "type": "mesh3d"
           }
          ],
          "parcoords": [
           {
            "line": {
             "colorbar": {
              "outlinewidth": 0,
              "ticks": ""
             }
            },
            "type": "parcoords"
           }
          ],
          "pie": [
           {
            "automargin": true,
            "type": "pie"
           }
          ],
          "scatter": [
           {
            "fillpattern": {
             "fillmode": "overlay",
             "size": 10,
             "solidity": 0.2
            },
            "type": "scatter"
           }
          ],
          "scatter3d": [
           {
            "line": {
             "colorbar": {
              "outlinewidth": 0,
              "ticks": ""
             }
            },
            "marker": {
             "colorbar": {
              "outlinewidth": 0,
              "ticks": ""
             }
            },
            "type": "scatter3d"
           }
          ],
          "scattercarpet": [
           {
            "marker": {
             "colorbar": {
              "outlinewidth": 0,
              "ticks": ""
             }
            },
            "type": "scattercarpet"
           }
          ],
          "scattergeo": [
           {
            "marker": {
             "colorbar": {
              "outlinewidth": 0,
              "ticks": ""
             }
            },
            "type": "scattergeo"
           }
          ],
          "scattergl": [
           {
            "marker": {
             "colorbar": {
              "outlinewidth": 0,
              "ticks": ""
             }
            },
            "type": "scattergl"
           }
          ],
          "scattermapbox": [
           {
            "marker": {
             "colorbar": {
              "outlinewidth": 0,
              "ticks": ""
             }
            },
            "type": "scattermapbox"
           }
          ],
          "scatterpolar": [
           {
            "marker": {
             "colorbar": {
              "outlinewidth": 0,
              "ticks": ""
             }
            },
            "type": "scatterpolar"
           }
          ],
          "scatterpolargl": [
           {
            "marker": {
             "colorbar": {
              "outlinewidth": 0,
              "ticks": ""
             }
            },
            "type": "scatterpolargl"
           }
          ],
          "scatterternary": [
           {
            "marker": {
             "colorbar": {
              "outlinewidth": 0,
              "ticks": ""
             }
            },
            "type": "scatterternary"
           }
          ],
          "surface": [
           {
            "colorbar": {
             "outlinewidth": 0,
             "ticks": ""
            },
            "colorscale": [
             [
              0,
              "#0d0887"
             ],
             [
              0.1111111111111111,
              "#46039f"
             ],
             [
              0.2222222222222222,
              "#7201a8"
             ],
             [
              0.3333333333333333,
              "#9c179e"
             ],
             [
              0.4444444444444444,
              "#bd3786"
             ],
             [
              0.5555555555555556,
              "#d8576b"
             ],
             [
              0.6666666666666666,
              "#ed7953"
             ],
             [
              0.7777777777777778,
              "#fb9f3a"
             ],
             [
              0.8888888888888888,
              "#fdca26"
             ],
             [
              1,
              "#f0f921"
             ]
            ],
            "type": "surface"
           }
          ],
          "table": [
           {
            "cells": {
             "fill": {
              "color": "#EBF0F8"
             },
             "line": {
              "color": "white"
             }
            },
            "header": {
             "fill": {
              "color": "#C8D4E3"
             },
             "line": {
              "color": "white"
             }
            },
            "type": "table"
           }
          ]
         },
         "layout": {
          "annotationdefaults": {
           "arrowcolor": "#2a3f5f",
           "arrowhead": 0,
           "arrowwidth": 1
          },
          "autotypenumbers": "strict",
          "coloraxis": {
           "colorbar": {
            "outlinewidth": 0,
            "ticks": ""
           }
          },
          "colorscale": {
           "diverging": [
            [
             0,
             "#8e0152"
            ],
            [
             0.1,
             "#c51b7d"
            ],
            [
             0.2,
             "#de77ae"
            ],
            [
             0.3,
             "#f1b6da"
            ],
            [
             0.4,
             "#fde0ef"
            ],
            [
             0.5,
             "#f7f7f7"
            ],
            [
             0.6,
             "#e6f5d0"
            ],
            [
             0.7,
             "#b8e186"
            ],
            [
             0.8,
             "#7fbc41"
            ],
            [
             0.9,
             "#4d9221"
            ],
            [
             1,
             "#276419"
            ]
           ],
           "sequential": [
            [
             0,
             "#0d0887"
            ],
            [
             0.1111111111111111,
             "#46039f"
            ],
            [
             0.2222222222222222,
             "#7201a8"
            ],
            [
             0.3333333333333333,
             "#9c179e"
            ],
            [
             0.4444444444444444,
             "#bd3786"
            ],
            [
             0.5555555555555556,
             "#d8576b"
            ],
            [
             0.6666666666666666,
             "#ed7953"
            ],
            [
             0.7777777777777778,
             "#fb9f3a"
            ],
            [
             0.8888888888888888,
             "#fdca26"
            ],
            [
             1,
             "#f0f921"
            ]
           ],
           "sequentialminus": [
            [
             0,
             "#0d0887"
            ],
            [
             0.1111111111111111,
             "#46039f"
            ],
            [
             0.2222222222222222,
             "#7201a8"
            ],
            [
             0.3333333333333333,
             "#9c179e"
            ],
            [
             0.4444444444444444,
             "#bd3786"
            ],
            [
             0.5555555555555556,
             "#d8576b"
            ],
            [
             0.6666666666666666,
             "#ed7953"
            ],
            [
             0.7777777777777778,
             "#fb9f3a"
            ],
            [
             0.8888888888888888,
             "#fdca26"
            ],
            [
             1,
             "#f0f921"
            ]
           ]
          },
          "colorway": [
           "#636efa",
           "#EF553B",
           "#00cc96",
           "#ab63fa",
           "#FFA15A",
           "#19d3f3",
           "#FF6692",
           "#B6E880",
           "#FF97FF",
           "#FECB52"
          ],
          "font": {
           "color": "#2a3f5f"
          },
          "geo": {
           "bgcolor": "white",
           "lakecolor": "white",
           "landcolor": "#E5ECF6",
           "showlakes": true,
           "showland": true,
           "subunitcolor": "white"
          },
          "hoverlabel": {
           "align": "left"
          },
          "hovermode": "closest",
          "mapbox": {
           "style": "light"
          },
          "paper_bgcolor": "white",
          "plot_bgcolor": "#E5ECF6",
          "polar": {
           "angularaxis": {
            "gridcolor": "white",
            "linecolor": "white",
            "ticks": ""
           },
           "bgcolor": "#E5ECF6",
           "radialaxis": {
            "gridcolor": "white",
            "linecolor": "white",
            "ticks": ""
           }
          },
          "scene": {
           "xaxis": {
            "backgroundcolor": "#E5ECF6",
            "gridcolor": "white",
            "gridwidth": 2,
            "linecolor": "white",
            "showbackground": true,
            "ticks": "",
            "zerolinecolor": "white"
           },
           "yaxis": {
            "backgroundcolor": "#E5ECF6",
            "gridcolor": "white",
            "gridwidth": 2,
            "linecolor": "white",
            "showbackground": true,
            "ticks": "",
            "zerolinecolor": "white"
           },
           "zaxis": {
            "backgroundcolor": "#E5ECF6",
            "gridcolor": "white",
            "gridwidth": 2,
            "linecolor": "white",
            "showbackground": true,
            "ticks": "",
            "zerolinecolor": "white"
           }
          },
          "shapedefaults": {
           "line": {
            "color": "#2a3f5f"
           }
          },
          "ternary": {
           "aaxis": {
            "gridcolor": "white",
            "linecolor": "white",
            "ticks": ""
           },
           "baxis": {
            "gridcolor": "white",
            "linecolor": "white",
            "ticks": ""
           },
           "bgcolor": "#E5ECF6",
           "caxis": {
            "gridcolor": "white",
            "linecolor": "white",
            "ticks": ""
           }
          },
          "title": {
           "x": 0.05
          },
          "xaxis": {
           "automargin": true,
           "gridcolor": "white",
           "linecolor": "white",
           "ticks": "",
           "title": {
            "standoff": 15
           },
           "zerolinecolor": "white",
           "zerolinewidth": 2
          },
          "yaxis": {
           "automargin": true,
           "gridcolor": "white",
           "linecolor": "white",
           "ticks": "",
           "title": {
            "standoff": 15
           },
           "zerolinecolor": "white",
           "zerolinewidth": 2
          }
         }
        },
        "title": {
         "text": "Efficiency samples and distributions for two groups"
        },
        "width": 600,
        "xaxis": {
         "anchor": "y",
         "domain": [
          0,
          1
         ],
         "matches": "x2",
         "showticklabels": false
        },
        "xaxis2": {
         "anchor": "y2",
         "domain": [
          0,
          1
         ],
         "title": {
          "text": "Efficiency"
         }
        },
        "yaxis": {
         "anchor": "x",
         "domain": [
          0.515,
          1
         ]
        },
        "yaxis2": {
         "anchor": "x2",
         "domain": [
          0,
          0.485
         ]
        }
       }
      }
     },
     "metadata": {},
     "output_type": "display_data"
    }
   ],
   "source": [
    "import numpy as np\n",
    "import pandas as pd\n",
    "import plotly.graph_objects as go\n",
    "from plotly.subplots import make_subplots\n",
    "import scipy.special as sps\n",
    "from scipy import stats\n",
    "\n",
    "n_sample = 50\n",
    "k, theta = 2, 1 # mean and width\n",
    "groupA = 18 - np.random.standard_gamma(k, n_sample) # Generate data for group A\n",
    "groupB = 17 - np.random.standard_gamma(k, n_sample) # Generate data from group B\n",
    "\n",
    "# Display data\n",
    "fig = make_subplots(rows=2, cols=1, shared_xaxes=True, vertical_spacing=0.03, horizontal_spacing= 0.01) \n",
    "# The first chart display the data itself, the second one show the distribution.\n",
    "fig.add_trace(go.Box(x=groupA, name = 'groupA', marker_color = 'rgba(255, 127, 14, 0.4)', line_color='rgb(255, 127, 14)',\n",
    "                     boxpoints='all', jitter=0.3, pointpos=-1.8, showlegend=False, line_width=1), row =1, col=1)\n",
    "fig.add_trace(go.Box(x=groupB, name = 'groupB', marker_color = 'rgba(148, 103, 189, 0.4)', line_color='rgb(148, 103, 189)',\n",
    "                     boxpoints='all', jitter=0.3, pointpos=-1.8, showlegend=False, line_width=1), row =1, col=1)\n",
    "fig.add_trace(go.Histogram(x=groupA, name = 'groupA', xbins = dict(size=0.3), histnorm='probability density',\n",
    "                           marker_line_color = 'rgb(255, 127, 14)', marker_color = 'rgba(255, 127, 14, 0.4)',\n",
    "                           marker_line_width=1), row=2, col=1)\n",
    "fig.add_trace(go.Histogram(x=groupB, name = 'groupB', xbins = dict(size=0.3), histnorm='probability density',\n",
    "                           marker_line_color = 'rgb(148, 103, 189)', marker_color = 'rgba(148, 103, 189, 0.4)',\n",
    "                           marker_line_width=1), row=2, col=1)\n",
    "\n",
    "# Add probability curve\n",
    "xA = sorted(groupA)\n",
    "xB = sorted(groupB)\n",
    "xA = np.array(xA)\n",
    "xB = np.array(xB)\n",
    "def pdf_gamma(x, theta, k):\n",
    "    y = x**(k-1) * ((np.exp(-x/theta))/(sps.gamma(k) * (theta**k)))\n",
    "    return y\n",
    "yA = pdf_gamma(18 - xA, theta, k)\n",
    "yB = pdf_gamma(17-xB, theta, k)\n",
    "\n",
    "fig.add_trace(go.Scatter(x=xA, y=yA, mode='lines', name = 'groupA', line=dict(color='rgb(255, 127, 14)', width=1.5, dash='solid'))\n",
    "              , row=2, col=1)\n",
    "fig.add_trace(go.Scatter(x=xB, y=yB, mode='lines', name = 'groupB', line=dict(color='rgb(148, 103, 189)', width=1.5, dash='dash'))\n",
    "              , row=2, col=1)\n",
    "# Overlay both histograms\n",
    "fig.update_layout(title='Efficiency samples and distributions for two groups',\n",
    "                  xaxis2 = dict(title=\"Efficiency\"),\n",
    "                  barmode='overlay', height=300, width=600, margin = dict(l=20, r=2, t=50, b=2))\n",
    "fig.show()"
   ]
  },
  {
   "cell_type": "markdown",
   "metadata": {},
   "source": [
    "## Step by step case study\n",
    "### Step 1: Combine data and calculate ranks for both groups"
   ]
  },
  {
   "cell_type": "code",
   "execution_count": 35,
   "metadata": {},
   "outputs": [],
   "source": [
    "df_AB = pd.DataFrame({'groupA': groupA, 'groupB': groupB})\n",
    "# Reshape df_AB into long format\n",
    "df_AB2 = pd.melt(df_AB, value_vars=['groupA', 'groupB'], var_name='Group', value_name='Eff')\n",
    "df_AB3 = df_AB2.copy()\n",
    "df_AB3.loc[:, 'Rank'] = df_AB3['Eff'].rank()"
   ]
  },
  {
   "cell_type": "markdown",
   "metadata": {},
   "source": [
    "### Step 2: Calculate the rank sums respectively for A and B"
   ]
  },
  {
   "cell_type": "code",
   "execution_count": 36,
   "metadata": {},
   "outputs": [
    {
     "name": "stdout",
     "output_type": "stream",
     "text": [
      "Group\n",
      "groupA    2795.0\n",
      "groupB    2255.0\n",
      "Name: Rank, dtype: float64\n"
     ]
    }
   ],
   "source": [
    "cate_names = df_AB3['Group'].unique() # list group names\n",
    "rankSum = df_AB3.groupby(by=['Group'])['Rank'].sum()\n",
    "print(rankSum)\n",
    "[rankSumA, rankSumB] = rankSum"
   ]
  },
  {
   "cell_type": "markdown",
   "metadata": {},
   "source": [
    "### Step 3: Calculate the U-values"
   ]
  },
  {
   "cell_type": "code",
   "execution_count": 37,
   "metadata": {},
   "outputs": [
    {
     "name": "stdout",
     "output_type": "stream",
     "text": [
      "UA =  980.0 , UB =  1520.0\n",
      "U_Wert =  980.0\n"
     ]
    }
   ],
   "source": [
    "[nA, nB] = df_AB3.groupby(by=['Group'])['Rank'].count()\n",
    "U_A = nA*nB + nA*(nA+1)/2 - rankSumA\n",
    "U_B = nA*nB + nB*(nB+1)/2 - rankSumB\n",
    "print('UA = ', U_A, ', UB = ', U_B)\n",
    "U_Wert = min(U_A, U_B)\n",
    "print('U_Wert = ', U_Wert)"
   ]
  },
  {
   "cell_type": "markdown",
   "metadata": {},
   "source": [
    "### Step 4: Check if there are tied ranks"
   ]
  },
  {
   "cell_type": "code",
   "execution_count": 38,
   "metadata": {},
   "outputs": [
    {
     "data": {
      "text/plain": [
       "False    100\n",
       "Name: IsRankTied, dtype: int64"
      ]
     },
     "execution_count": 38,
     "metadata": {},
     "output_type": "execute_result"
    }
   ],
   "source": [
    "df_AB3['IsRankTied'] = df_AB3['Rank'].duplicated(keep=False)\n",
    "df_AB3['IsRankTied'].value_counts()"
   ]
  },
  {
   "cell_type": "markdown",
   "metadata": {},
   "source": [
    "### Step 5: Calculate the p-value\n",
    "The U statistic is assumed to yield a normal distribution under the null hypothesis in the Mann-Whitney U test. The standardization process (normalising) is often done to facilitate the comparison of the U statistic to a standard normal distribution. The resulting z-value is also approximately normally distributed under the null hypothesis."
   ]
  },
  {
   "cell_type": "code",
   "execution_count": 39,
   "metadata": {},
   "outputs": [
    {
     "name": "stdout",
     "output_type": "stream",
     "text": [
      "p-vlaue = 0.03134869814386435\n"
     ]
    }
   ],
   "source": [
    "# Expected value of U\n",
    "U_ex = nA*nB/2\n",
    "\n",
    "# When there is no tied ranks\n",
    "# Standard error of U\n",
    "U_sigma = np.sqrt(nA*nB*(nA+nB+1)/12)\n",
    "\n",
    "# when there are tied ranks\n",
    "# Standard error of U with tie correction\n",
    "_, ties = np.unique(df_AB3['Rank'], return_counts=True, axis=-1)\n",
    "tieSum = (ties ** 3 - ties).sum() # this procedure will help detact if the tied-ranks exist.\n",
    "U_sigmaTie = np.sqrt( (nA*nB/12) * ( (nA+nB+1) - tieSum/((nA+nB)*(nA+nB-1)) ) )\n",
    "\n",
    "# Calculate z-value\n",
    "z = (U_Wert - U_ex)/U_sigma\n",
    "\n",
    "# Calculate p-value\n",
    "p = stats.norm.sf(abs(z))\n",
    "print('p-vlaue =', p)"
   ]
  },
  {
   "cell_type": "markdown",
   "metadata": {},
   "source": [
    "For a one-tailed hypothesis test, the p-value is 0.001266; for a two-tailed hypothesis test, the p-value should be multiplied by 2, yielding p-value = 0.002532. In both cases, the p-value is below the 5% threshold. Consequently, we reject the null hypothesis asserting that group A and group B share the same distribution. Thus, we conclude that group A and group B in our case are significantly different."
   ]
  },
  {
   "cell_type": "markdown",
   "metadata": {},
   "source": [
    "## Robustness Verification Through Repeated Hypothesis Tests\n",
    "Nonetheless, a single hypothesis test may lack precision in real-world scenarios due to sampling variability. A pragmatic approach involves conducting repeated hypothesis tests, for instance, 100 times. This allows us to compare the statistical outcomes between hypothesis tests of group A vs. group A (or group B vs. group B) and group A vs. group B."
   ]
  },
  {
   "cell_type": "markdown",
   "metadata": {},
   "source": [
    "### Wrap the algorithm to a function"
   ]
  },
  {
   "cell_type": "code",
   "execution_count": 40,
   "metadata": {
    "tags": [
     "hide-input"
    ]
   },
   "outputs": [],
   "source": [
    "import pandas as pd\n",
    "import numpy as np\n",
    "from scipy import stats\n",
    "\n",
    "def mann_whitney_u_test(groupA, groupB, tails=2):\n",
    "    # Combine groups into a DataFrame\n",
    "    df_AB = pd.DataFrame({'groupA': groupA, 'groupB': groupB})\n",
    "    \n",
    "    # Reshape df_AB into long format\n",
    "    df_AB2 = pd.melt(df_AB, value_vars=['groupA', 'groupB'], var_name='Group', value_name='Eff')\n",
    "    df_AB3 = df_AB2.copy()\n",
    "    df_AB3.loc[:, 'Rank'] = df_AB3['Eff'].rank()\n",
    "    \n",
    "    # Calculate rank sums\n",
    "    rankSum = df_AB3.groupby(by=['Group'])['Rank'].sum()\n",
    "    [rankSumA, rankSumB] = rankSum\n",
    "    [nA, nB] = df_AB3.groupby(by=['Group'])['Rank'].count()\n",
    "    \n",
    "    # Calculate U values\n",
    "    U_A = nA*nB + nA*(nA+1)/2 - rankSumA\n",
    "    U_B = nA*nB + nB*(nB+1)/2 - rankSumB\n",
    "    U_Wert = min(U_A, U_B)\n",
    "    \n",
    "    # Expected value of U\n",
    "    U_ex = nA*nB/2\n",
    "    \n",
    "    # Calculate standard error of U\n",
    "    _, ties = np.unique(df_AB3['Rank'], return_counts=True, axis=-1)\n",
    "    tieSum = (ties ** 3 - ties).sum()\n",
    "    U_sigmaTie = np.sqrt((nA * nB / 12) * ((nA + nB + 1) - tieSum / ((nA + nB) * (nA + nB - 1))))\n",
    "    \n",
    "    # Calculate z-value\n",
    "    z = (U_Wert - U_ex) / U_sigmaTie\n",
    "    \n",
    "    # Calculate p-value\n",
    "    if tails == 2:\n",
    "        p = 2 * stats.norm.sf(abs(z))\n",
    "    else:\n",
    "        p = stats.norm.sf(abs(z))\n",
    "    \n",
    "    return p"
   ]
  },
  {
   "cell_type": "markdown",
   "metadata": {},
   "source": [
    "### Calculate p-values for comparison"
   ]
  },
  {
   "cell_type": "code",
   "execution_count": 41,
   "metadata": {
    "tags": [
     "hide-input"
    ]
   },
   "outputs": [
    {
     "data": {
      "text/html": [
       "<div>\n",
       "<style scoped>\n",
       "    .dataframe tbody tr th:only-of-type {\n",
       "        vertical-align: middle;\n",
       "    }\n",
       "\n",
       "    .dataframe tbody tr th {\n",
       "        vertical-align: top;\n",
       "    }\n",
       "\n",
       "    .dataframe thead th {\n",
       "        text-align: right;\n",
       "    }\n",
       "</style>\n",
       "<table border=\"1\" class=\"dataframe\">\n",
       "  <thead>\n",
       "    <tr style=\"text-align: right;\">\n",
       "      <th></th>\n",
       "      <th>p-value</th>\n",
       "      <th>Comparison</th>\n",
       "    </tr>\n",
       "  </thead>\n",
       "  <tbody>\n",
       "    <tr>\n",
       "      <th>0</th>\n",
       "      <td>0.383757</td>\n",
       "      <td>A vs A</td>\n",
       "    </tr>\n",
       "    <tr>\n",
       "      <th>1</th>\n",
       "      <td>0.312231</td>\n",
       "      <td>A vs A</td>\n",
       "    </tr>\n",
       "    <tr>\n",
       "      <th>2</th>\n",
       "      <td>0.603268</td>\n",
       "      <td>A vs A</td>\n",
       "    </tr>\n",
       "    <tr>\n",
       "      <th>3</th>\n",
       "      <td>0.512820</td>\n",
       "      <td>A vs A</td>\n",
       "    </tr>\n",
       "    <tr>\n",
       "      <th>4</th>\n",
       "      <td>0.479329</td>\n",
       "      <td>A vs A</td>\n",
       "    </tr>\n",
       "    <tr>\n",
       "      <th>...</th>\n",
       "      <td>...</td>\n",
       "      <td>...</td>\n",
       "    </tr>\n",
       "    <tr>\n",
       "      <th>295</th>\n",
       "      <td>0.045341</td>\n",
       "      <td>A vs B</td>\n",
       "    </tr>\n",
       "    <tr>\n",
       "      <th>296</th>\n",
       "      <td>0.067508</td>\n",
       "      <td>A vs B</td>\n",
       "    </tr>\n",
       "    <tr>\n",
       "      <th>297</th>\n",
       "      <td>0.146224</td>\n",
       "      <td>A vs B</td>\n",
       "    </tr>\n",
       "    <tr>\n",
       "      <th>298</th>\n",
       "      <td>0.022012</td>\n",
       "      <td>A vs B</td>\n",
       "    </tr>\n",
       "    <tr>\n",
       "      <th>299</th>\n",
       "      <td>0.083265</td>\n",
       "      <td>A vs B</td>\n",
       "    </tr>\n",
       "  </tbody>\n",
       "</table>\n",
       "<p>300 rows × 2 columns</p>\n",
       "</div>"
      ],
      "text/plain": [
       "      p-value Comparison\n",
       "0    0.383757     A vs A\n",
       "1    0.312231     A vs A\n",
       "2    0.603268     A vs A\n",
       "3    0.512820     A vs A\n",
       "4    0.479329     A vs A\n",
       "..        ...        ...\n",
       "295  0.045341     A vs B\n",
       "296  0.067508     A vs B\n",
       "297  0.146224     A vs B\n",
       "298  0.022012     A vs B\n",
       "299  0.083265     A vs B\n",
       "\n",
       "[300 rows x 2 columns]"
      ]
     },
     "execution_count": 41,
     "metadata": {},
     "output_type": "execute_result"
    }
   ],
   "source": [
    "p_values_mannwhitneyu_AA = []\n",
    "p_values_mannwhitneyu_BB = []\n",
    "p_values_mannwhitneyu_AB = []\n",
    "n_test = 100\n",
    "n_sample2 = 40  \n",
    "\n",
    "for _ in range(n_test):\n",
    "    # Generate samples for the repeated tests\n",
    "    resampleA = np.random.choice(groupA, size=n_sample2, replace=False) # set replace to True if bootstrapping is desired in your case.\n",
    "    resampleA2 = np.random.choice(groupA, size=n_sample2, replace=False)\n",
    "    resampleB = np.random.choice(groupB, size=n_sample2, replace=False)\n",
    "    resampleB2 = np.random.choice(groupB, size=n_sample2, replace=False)\n",
    "\n",
    "    # Calculate the mann whitney u tests for comparsion\n",
    "    p_AB = mann_whitney_u_test(resampleA, resampleB, tails=2)\n",
    "    p_AA = mann_whitney_u_test(resampleA, resampleA2, tails=2)\n",
    "    p_BB = mann_whitney_u_test(resampleB, resampleB2, tails=2)\n",
    "\n",
    "    # save results\n",
    "    p_values_mannwhitneyu_AB.append(p_AB)\n",
    "    p_values_mannwhitneyu_AA.append(p_AA)\n",
    "    p_values_mannwhitneyu_BB.append(p_BB)\n",
    "\n",
    "# Combine and reshape data for plot\n",
    "df_combine = pd.DataFrame({'p-value': p_values_mannwhitneyu_AA + p_values_mannwhitneyu_BB + p_values_mannwhitneyu_AB,\n",
    "                           'Comparison': ['A vs A'] * n_test + ['B vs B'] * n_test + ['A vs B'] * n_test})\n",
    "\n",
    "df_combine\n"
   ]
  },
  {
   "cell_type": "markdown",
   "metadata": {},
   "source": [
    "### Show comparsion results"
   ]
  },
  {
   "cell_type": "code",
   "execution_count": 42,
   "metadata": {
    "tags": [
     "hide-input"
    ]
   },
   "outputs": [
    {
     "data": {
      "application/vnd.plotly.v1+json": {
       "config": {
        "plotlyServerURL": "https://plot.ly"
       },
       "data": [
        {
         "alignmentgroup": "True",
         "bingroup": "x",
         "histnorm": "probability",
         "hovertemplate": "Comparison=A vs A<br>p-value=%{x}<br>probability=%{y}<extra></extra>",
         "legendgroup": "A vs A",
         "marker": {
          "color": "rgb(31, 119, 180)",
          "pattern": {
           "shape": ""
          }
         },
         "name": "A vs A",
         "offsetgroup": "A vs A",
         "orientation": "v",
         "showlegend": true,
         "type": "histogram",
         "x": [
          0.3837569360252,
          0.31223066134359445,
          0.6032680726724653,
          0.512819968591731,
          0.47932874641065637,
          0.44132730599768955,
          0.9042429982648801,
          0.8248108008615104,
          0.9118699412138237,
          0.6441050889706506,
          0.6032638249437914,
          0.9731284315508469,
          0.7544387754974313,
          0.8248128216314687,
          0.8435949797387743,
          0.4974484858640005,
          0.9424564773301011,
          0.3707545964000243,
          0.6544940433421291,
          0.6684441600108746,
          0.4024155714511458,
          0.39703452683167617,
          0.6032638249437914,
          0.50050100330428,
          0.98464295246615,
          0.8738248433657883,
          0.9348008645793985,
          0.6475579289559092,
          0.6825135713468635,
          0.9539510660303224,
          0.512819968591731,
          0.703824828166517,
          0.9769659365550201,
          0.6133669027802422,
          0.4704031763163695,
          0.7289856626054508,
          0.512824910765427,
          0.22710191692886494,
          0.8024079035723731,
          0.6510222298811843,
          0.8662462842373208,
          0.7912636417158416,
          0.8586847438906091,
          0.5539232031739921,
          0.6066246203822455,
          0.34312943231396276,
          0.8662478377508878,
          0.42439613257904485,
          0.2810739110768602,
          0.6860502134280717,
          0.8586831043978523,
          0.8738263103643297,
          0.9961604933498488,
          0.9616193736920478,
          0.7544387754974313,
          0.46157530724706775,
          0.9616193736920478,
          0.6133669027802422,
          0.30536556089355593,
          0.566881852402537,
          0.7580991458488673,
          0.9424571508517744,
          0.38903393550958065,
          0.7074016200984363,
          0.4188307286027517,
          0.9309745333825451,
          0.9080564610859921,
          0.9156875561702783,
          0.9309745333825451,
          0.9731281165995781,
          0.8285624111842765,
          0.7002578791307046,
          0.9501181736315748,
          0.7986901146292805,
          0.4823209004966902,
          0.9769659365550201,
          0.9961604933498488,
          0.7912660325165015,
          0.8700356042855018,
          0.9233266085973104,
          0.9616198233489244,
          0.9884818356776582,
          0.8398303399036999,
          0.4704031763163695,
          0.8890142289260529,
          0.8360693165192735,
          0.7471402324649158,
          0.7471402324649158,
          0.5035634606569154,
          0.8586831043978523,
          0.7617621952826532,
          0.7507895200312411,
          0.6614562275580994,
          0.5221593801037638,
          0.8814148183385947,
          0.8549047111572485,
          0.896623852912665,
          0.8098591527674122,
          0.6860502134280717,
          0.76910701434603
         ],
         "xaxis": "x",
         "xbins": {
          "size": 0.05,
          "start": 0
         },
         "yaxis": "y"
        },
        {
         "alignmentgroup": "True",
         "bingroup": "x",
         "histnorm": "probability",
         "hovertemplate": "Comparison=B vs B<br>p-value=%{x}<br>probability=%{y}<extra></extra>",
         "legendgroup": "B vs B",
         "marker": {
          "color": "rgb(255, 127, 14)",
          "pattern": {
           "shape": ""
          }
         },
         "name": "B vs B",
         "offsetgroup": "B vs B",
         "orientation": "v",
         "showlegend": true,
         "type": "histogram",
         "x": [
          0.7801642649998142,
          0.7289826100462227,
          0.365632240868897,
          0.5865951620122885,
          0.7181639453732684,
          0.689593703412157,
          0.9348001018202636,
          0.5965716774827217,
          0.5999156664879375,
          0.5474917839783133,
          0.7580991458488673,
          0.6201379507407785,
          0.8662478377508878,
          0.4105798554822859,
          0.8210692436560324,
          0.6754646932101951,
          0.9808040197632738,
          0.9501187577289593,
          0.39168614002427393,
          0.29637831560041983,
          0.8360712113158066,
          0.36309052335020475,
          0.9731281165995781,
          0.7217660880979757,
          0.5734220789859348,
          0.896623852912665,
          0.3455876496060529,
          0.8738248433657883,
          0.6825135713468635,
          0.6614525054191953,
          0.9462870189210059,
          0.5097279662289742,
          0.8135923687670815,
          0.7038281367058181,
          0.7580991458488673,
          0.6337890591839053,
          0.7838608369773751,
          0.637214686352535,
          0.8700371145401588,
          0.8814148183385947,
          0.6966975705460445,
          0.7949769278263839,
          0.4160696244469687,
          0.9501181736315748,
          0.7362293513876044,
          0.80240563472318,
          0.6789838458347257,
          0.522154501355286,
          0.7912660325165015,
          0.9195051907849738,
          0.5190381775098962,
          0.5315903834722996,
          0.6133627423098389,
          0.609989529291318,
          0.9539510660303224,
          0.609989529291318,
          0.6510222298811843,
          0.7617621952826532,
          0.5799888267188507,
          0.6235397690160649,
          0.5284355483803485,
          0.44133266137038984,
          0.8098613394367917,
          0.9731284315508469,
          0.467446746427738,
          0.8473613844986903,
          0.7073983474409542,
          0.7145744140839816,
          0.4051279681726765,
          0.9004316981016063,
          0.7764726129268835,
          0.9309753406684814,
          0.43848062864838555,
          0.71457121405636,
          0.3382578501575275,
          0.4299989913619585,
          0.6931405572133154,
          0.9501187577289593,
          0.9004305367240335,
          0.464505847624199,
          0.6895902533345191,
          0.794972227234641,
          0.5474964800240224,
          0.44133266137038984,
          0.5965673727402805,
          0.9233275048241573,
          0.7544387754974313,
          0.8852125355407752,
          0.8776170231230092,
          0.866249391210327,
          0.5539232031739921,
          0.44133801659194116,
          0.7801642649998142,
          0.9233275048241573,
          0.287564346335336,
          0.7801642649998142,
          0.5734220789859348,
          0.866249391210327,
          0.3455876496060529,
          0.9118699412138237
         ],
         "xaxis": "x2",
         "xbins": {
          "size": 0.05,
          "start": 0
         },
         "yaxis": "y2"
        },
        {
         "alignmentgroup": "True",
         "bingroup": "x",
         "histnorm": "probability",
         "hovertemplate": "Comparison=A vs B<br>p-value=%{x}<br>probability=%{y}<extra></extra>",
         "legendgroup": "A vs B",
         "marker": {
          "color": "rgb(44, 160, 44)",
          "pattern": {
           "shape": ""
          }
         },
         "name": "A vs B",
         "offsetgroup": "A vs B",
         "orientation": "v",
         "showlegend": true,
         "type": "histogram",
         "x": [
          0.12842159975279724,
          0.37084433330422095,
          0.10596880912720232,
          0.21806842908828672,
          0.16005528289289417,
          0.16005528289289417,
          0.07044621175147536,
          0.02374139453072586,
          0.026885511853408067,
          0.02092133533779403,
          0.17181481745796623,
          0.09987740276926416,
          0.07504923472080162,
          0.6168144089718609,
          0.07044621175147536,
          0.19064934010323453,
          0.043308142810791955,
          0.24821307898992373,
          0.02374139453072586,
          0.12132806889313161,
          0.06607738428430797,
          0.12842159975279724,
          0.11454476620511707,
          0.12842159975279724,
          0.10596880912720232,
          0.05550801397799528,
          0.008615558118820473,
          0.20061791237082038,
          0.061934290550180064,
          0.04135321908975266,
          0.0766370896777306,
          0.07504923472080162,
          0.04534058651442059,
          0.1748533068932927,
          0.5253727863737021,
          0.07504923472080162,
          0.10187605853790069,
          0.0049576713569223895,
          0.17181481745796623,
          0.02824036873330039,
          0.34567812055844815,
          0.06750816200747801,
          0.07348834729182256,
          0.7362769783410712,
          0.10806352709163403,
          0.006656727227605034,
          0.03947355492013097,
          0.011074437676156606,
          0.6441672226837103,
          0.04135321908975266,
          0.24041683705470562,
          0.14357120081959063,
          0.022012271121777283,
          0.13085643896674126,
          0.10596880912720232,
          0.2040238704744366,
          0.13583336816835498,
          0.08499196026878755,
          0.05077595655567738,
          0.24821307898992373,
          0.11903289845700783,
          0.11903289845700783,
          0.39711753786482673,
          0.22904866943021784,
          0.0632907598717303,
          0.3216279831138674,
          0.11903289845700783,
          0.03593112647533311,
          0.18420928818665294,
          0.12132806889313161,
          0.14095521914437134,
          0.10187605853790069,
          0.13583336816835498,
          0.18420928818665294,
          0.17793172526825463,
          0.15440865136193116,
          0.04135321908975266,
          0.12132806889313161,
          0.09219359636573936,
          0.13332693177434937,
          0.09219359636573936,
          0.2109616290358598,
          0.0385612475974246,
          0.061934290550180064,
          0.10187605853790069,
          0.24429312172305462,
          0.020393757744566525,
          0.2040238704744366,
          0.4134069344282052,
          0.06467168750236373,
          0.2643320322883188,
          0.1748533068932927,
          0.07348834729182256,
          0.21449380778351745,
          0.21449380778351745,
          0.04534058651442059,
          0.06750816200747801,
          0.14622426003257888,
          0.022012271121777283,
          0.0832645166635504
         ],
         "xaxis": "x3",
         "xbins": {
          "size": 0.05,
          "start": 0
         },
         "yaxis": "y3"
        }
       ],
       "layout": {
        "annotations": [
         {
          "showarrow": false,
          "text": "A vs A",
          "x": 0.15999999999999998,
          "xanchor": "center",
          "xref": "paper",
          "y": 1,
          "yanchor": "bottom",
          "yref": "paper"
         },
         {
          "showarrow": false,
          "text": "B vs B",
          "x": 0.49999999999999994,
          "xanchor": "center",
          "xref": "paper",
          "y": 1,
          "yanchor": "bottom",
          "yref": "paper"
         },
         {
          "showarrow": false,
          "text": "A vs B",
          "x": 0.8399999999999999,
          "xanchor": "center",
          "xref": "paper",
          "y": 1,
          "yanchor": "bottom",
          "yref": "paper"
         },
         {
          "font": {
           "color": "rgb(214, 39, 40)",
           "size": 12
          },
          "showarrow": false,
          "text": "0.05",
          "x": 0.05,
          "xref": "x",
          "y": -0.15,
          "yref": "paper"
         },
         {
          "font": {
           "color": "rgb(214, 39, 40)",
           "size": 12
          },
          "showarrow": false,
          "text": "0.05",
          "x": 0.05,
          "xref": "x2",
          "y": -0.15,
          "yref": "paper"
         },
         {
          "font": {
           "color": "rgb(214, 39, 40)",
           "size": 12
          },
          "showarrow": false,
          "text": "0.05",
          "x": 0.05,
          "xref": "x3",
          "y": -0.15,
          "yref": "paper"
         }
        ],
        "bargap": 0.1,
        "barmode": "relative",
        "height": 300,
        "legend": {
         "title": {
          "text": "Comparison"
         },
         "tracegroupgap": 0
        },
        "margin": {
         "b": 2,
         "l": 20,
         "r": 2,
         "t": 50
        },
        "shapes": [
         {
          "line": {
           "color": "rgb(214, 39, 40)",
           "dash": "dash",
           "width": 1
          },
          "type": "line",
          "x0": 0.05,
          "x1": 0.05,
          "xref": "x",
          "y0": 0,
          "y1": 1,
          "yref": "y domain"
         },
         {
          "line": {
           "color": "rgb(214, 39, 40)",
           "dash": "dash",
           "width": 1
          },
          "type": "line",
          "x0": 0.05,
          "x1": 0.05,
          "xref": "x2",
          "y0": 0,
          "y1": 1,
          "yref": "y2 domain"
         },
         {
          "line": {
           "color": "rgb(214, 39, 40)",
           "dash": "dash",
           "width": 1
          },
          "type": "line",
          "x0": 0.05,
          "x1": 0.05,
          "xref": "x3",
          "y0": 0,
          "y1": 1,
          "yref": "y3 domain"
         }
        ],
        "showlegend": false,
        "template": {
         "data": {
          "bar": [
           {
            "error_x": {
             "color": "#2a3f5f"
            },
            "error_y": {
             "color": "#2a3f5f"
            },
            "marker": {
             "line": {
              "color": "#E5ECF6",
              "width": 0.5
             },
             "pattern": {
              "fillmode": "overlay",
              "size": 10,
              "solidity": 0.2
             }
            },
            "type": "bar"
           }
          ],
          "barpolar": [
           {
            "marker": {
             "line": {
              "color": "#E5ECF6",
              "width": 0.5
             },
             "pattern": {
              "fillmode": "overlay",
              "size": 10,
              "solidity": 0.2
             }
            },
            "type": "barpolar"
           }
          ],
          "carpet": [
           {
            "aaxis": {
             "endlinecolor": "#2a3f5f",
             "gridcolor": "white",
             "linecolor": "white",
             "minorgridcolor": "white",
             "startlinecolor": "#2a3f5f"
            },
            "baxis": {
             "endlinecolor": "#2a3f5f",
             "gridcolor": "white",
             "linecolor": "white",
             "minorgridcolor": "white",
             "startlinecolor": "#2a3f5f"
            },
            "type": "carpet"
           }
          ],
          "choropleth": [
           {
            "colorbar": {
             "outlinewidth": 0,
             "ticks": ""
            },
            "type": "choropleth"
           }
          ],
          "contour": [
           {
            "colorbar": {
             "outlinewidth": 0,
             "ticks": ""
            },
            "colorscale": [
             [
              0,
              "#0d0887"
             ],
             [
              0.1111111111111111,
              "#46039f"
             ],
             [
              0.2222222222222222,
              "#7201a8"
             ],
             [
              0.3333333333333333,
              "#9c179e"
             ],
             [
              0.4444444444444444,
              "#bd3786"
             ],
             [
              0.5555555555555556,
              "#d8576b"
             ],
             [
              0.6666666666666666,
              "#ed7953"
             ],
             [
              0.7777777777777778,
              "#fb9f3a"
             ],
             [
              0.8888888888888888,
              "#fdca26"
             ],
             [
              1,
              "#f0f921"
             ]
            ],
            "type": "contour"
           }
          ],
          "contourcarpet": [
           {
            "colorbar": {
             "outlinewidth": 0,
             "ticks": ""
            },
            "type": "contourcarpet"
           }
          ],
          "heatmap": [
           {
            "colorbar": {
             "outlinewidth": 0,
             "ticks": ""
            },
            "colorscale": [
             [
              0,
              "#0d0887"
             ],
             [
              0.1111111111111111,
              "#46039f"
             ],
             [
              0.2222222222222222,
              "#7201a8"
             ],
             [
              0.3333333333333333,
              "#9c179e"
             ],
             [
              0.4444444444444444,
              "#bd3786"
             ],
             [
              0.5555555555555556,
              "#d8576b"
             ],
             [
              0.6666666666666666,
              "#ed7953"
             ],
             [
              0.7777777777777778,
              "#fb9f3a"
             ],
             [
              0.8888888888888888,
              "#fdca26"
             ],
             [
              1,
              "#f0f921"
             ]
            ],
            "type": "heatmap"
           }
          ],
          "heatmapgl": [
           {
            "colorbar": {
             "outlinewidth": 0,
             "ticks": ""
            },
            "colorscale": [
             [
              0,
              "#0d0887"
             ],
             [
              0.1111111111111111,
              "#46039f"
             ],
             [
              0.2222222222222222,
              "#7201a8"
             ],
             [
              0.3333333333333333,
              "#9c179e"
             ],
             [
              0.4444444444444444,
              "#bd3786"
             ],
             [
              0.5555555555555556,
              "#d8576b"
             ],
             [
              0.6666666666666666,
              "#ed7953"
             ],
             [
              0.7777777777777778,
              "#fb9f3a"
             ],
             [
              0.8888888888888888,
              "#fdca26"
             ],
             [
              1,
              "#f0f921"
             ]
            ],
            "type": "heatmapgl"
           }
          ],
          "histogram": [
           {
            "marker": {
             "pattern": {
              "fillmode": "overlay",
              "size": 10,
              "solidity": 0.2
             }
            },
            "type": "histogram"
           }
          ],
          "histogram2d": [
           {
            "colorbar": {
             "outlinewidth": 0,
             "ticks": ""
            },
            "colorscale": [
             [
              0,
              "#0d0887"
             ],
             [
              0.1111111111111111,
              "#46039f"
             ],
             [
              0.2222222222222222,
              "#7201a8"
             ],
             [
              0.3333333333333333,
              "#9c179e"
             ],
             [
              0.4444444444444444,
              "#bd3786"
             ],
             [
              0.5555555555555556,
              "#d8576b"
             ],
             [
              0.6666666666666666,
              "#ed7953"
             ],
             [
              0.7777777777777778,
              "#fb9f3a"
             ],
             [
              0.8888888888888888,
              "#fdca26"
             ],
             [
              1,
              "#f0f921"
             ]
            ],
            "type": "histogram2d"
           }
          ],
          "histogram2dcontour": [
           {
            "colorbar": {
             "outlinewidth": 0,
             "ticks": ""
            },
            "colorscale": [
             [
              0,
              "#0d0887"
             ],
             [
              0.1111111111111111,
              "#46039f"
             ],
             [
              0.2222222222222222,
              "#7201a8"
             ],
             [
              0.3333333333333333,
              "#9c179e"
             ],
             [
              0.4444444444444444,
              "#bd3786"
             ],
             [
              0.5555555555555556,
              "#d8576b"
             ],
             [
              0.6666666666666666,
              "#ed7953"
             ],
             [
              0.7777777777777778,
              "#fb9f3a"
             ],
             [
              0.8888888888888888,
              "#fdca26"
             ],
             [
              1,
              "#f0f921"
             ]
            ],
            "type": "histogram2dcontour"
           }
          ],
          "mesh3d": [
           {
            "colorbar": {
             "outlinewidth": 0,
             "ticks": ""
            },
            "type": "mesh3d"
           }
          ],
          "parcoords": [
           {
            "line": {
             "colorbar": {
              "outlinewidth": 0,
              "ticks": ""
             }
            },
            "type": "parcoords"
           }
          ],
          "pie": [
           {
            "automargin": true,
            "type": "pie"
           }
          ],
          "scatter": [
           {
            "fillpattern": {
             "fillmode": "overlay",
             "size": 10,
             "solidity": 0.2
            },
            "type": "scatter"
           }
          ],
          "scatter3d": [
           {
            "line": {
             "colorbar": {
              "outlinewidth": 0,
              "ticks": ""
             }
            },
            "marker": {
             "colorbar": {
              "outlinewidth": 0,
              "ticks": ""
             }
            },
            "type": "scatter3d"
           }
          ],
          "scattercarpet": [
           {
            "marker": {
             "colorbar": {
              "outlinewidth": 0,
              "ticks": ""
             }
            },
            "type": "scattercarpet"
           }
          ],
          "scattergeo": [
           {
            "marker": {
             "colorbar": {
              "outlinewidth": 0,
              "ticks": ""
             }
            },
            "type": "scattergeo"
           }
          ],
          "scattergl": [
           {
            "marker": {
             "colorbar": {
              "outlinewidth": 0,
              "ticks": ""
             }
            },
            "type": "scattergl"
           }
          ],
          "scattermapbox": [
           {
            "marker": {
             "colorbar": {
              "outlinewidth": 0,
              "ticks": ""
             }
            },
            "type": "scattermapbox"
           }
          ],
          "scatterpolar": [
           {
            "marker": {
             "colorbar": {
              "outlinewidth": 0,
              "ticks": ""
             }
            },
            "type": "scatterpolar"
           }
          ],
          "scatterpolargl": [
           {
            "marker": {
             "colorbar": {
              "outlinewidth": 0,
              "ticks": ""
             }
            },
            "type": "scatterpolargl"
           }
          ],
          "scatterternary": [
           {
            "marker": {
             "colorbar": {
              "outlinewidth": 0,
              "ticks": ""
             }
            },
            "type": "scatterternary"
           }
          ],
          "surface": [
           {
            "colorbar": {
             "outlinewidth": 0,
             "ticks": ""
            },
            "colorscale": [
             [
              0,
              "#0d0887"
             ],
             [
              0.1111111111111111,
              "#46039f"
             ],
             [
              0.2222222222222222,
              "#7201a8"
             ],
             [
              0.3333333333333333,
              "#9c179e"
             ],
             [
              0.4444444444444444,
              "#bd3786"
             ],
             [
              0.5555555555555556,
              "#d8576b"
             ],
             [
              0.6666666666666666,
              "#ed7953"
             ],
             [
              0.7777777777777778,
              "#fb9f3a"
             ],
             [
              0.8888888888888888,
              "#fdca26"
             ],
             [
              1,
              "#f0f921"
             ]
            ],
            "type": "surface"
           }
          ],
          "table": [
           {
            "cells": {
             "fill": {
              "color": "#EBF0F8"
             },
             "line": {
              "color": "white"
             }
            },
            "header": {
             "fill": {
              "color": "#C8D4E3"
             },
             "line": {
              "color": "white"
             }
            },
            "type": "table"
           }
          ]
         },
         "layout": {
          "annotationdefaults": {
           "arrowcolor": "#2a3f5f",
           "arrowhead": 0,
           "arrowwidth": 1
          },
          "autotypenumbers": "strict",
          "coloraxis": {
           "colorbar": {
            "outlinewidth": 0,
            "ticks": ""
           }
          },
          "colorscale": {
           "diverging": [
            [
             0,
             "#8e0152"
            ],
            [
             0.1,
             "#c51b7d"
            ],
            [
             0.2,
             "#de77ae"
            ],
            [
             0.3,
             "#f1b6da"
            ],
            [
             0.4,
             "#fde0ef"
            ],
            [
             0.5,
             "#f7f7f7"
            ],
            [
             0.6,
             "#e6f5d0"
            ],
            [
             0.7,
             "#b8e186"
            ],
            [
             0.8,
             "#7fbc41"
            ],
            [
             0.9,
             "#4d9221"
            ],
            [
             1,
             "#276419"
            ]
           ],
           "sequential": [
            [
             0,
             "#0d0887"
            ],
            [
             0.1111111111111111,
             "#46039f"
            ],
            [
             0.2222222222222222,
             "#7201a8"
            ],
            [
             0.3333333333333333,
             "#9c179e"
            ],
            [
             0.4444444444444444,
             "#bd3786"
            ],
            [
             0.5555555555555556,
             "#d8576b"
            ],
            [
             0.6666666666666666,
             "#ed7953"
            ],
            [
             0.7777777777777778,
             "#fb9f3a"
            ],
            [
             0.8888888888888888,
             "#fdca26"
            ],
            [
             1,
             "#f0f921"
            ]
           ],
           "sequentialminus": [
            [
             0,
             "#0d0887"
            ],
            [
             0.1111111111111111,
             "#46039f"
            ],
            [
             0.2222222222222222,
             "#7201a8"
            ],
            [
             0.3333333333333333,
             "#9c179e"
            ],
            [
             0.4444444444444444,
             "#bd3786"
            ],
            [
             0.5555555555555556,
             "#d8576b"
            ],
            [
             0.6666666666666666,
             "#ed7953"
            ],
            [
             0.7777777777777778,
             "#fb9f3a"
            ],
            [
             0.8888888888888888,
             "#fdca26"
            ],
            [
             1,
             "#f0f921"
            ]
           ]
          },
          "colorway": [
           "#636efa",
           "#EF553B",
           "#00cc96",
           "#ab63fa",
           "#FFA15A",
           "#19d3f3",
           "#FF6692",
           "#B6E880",
           "#FF97FF",
           "#FECB52"
          ],
          "font": {
           "color": "#2a3f5f"
          },
          "geo": {
           "bgcolor": "white",
           "lakecolor": "white",
           "landcolor": "#E5ECF6",
           "showlakes": true,
           "showland": true,
           "subunitcolor": "white"
          },
          "hoverlabel": {
           "align": "left"
          },
          "hovermode": "closest",
          "mapbox": {
           "style": "light"
          },
          "paper_bgcolor": "white",
          "plot_bgcolor": "#E5ECF6",
          "polar": {
           "angularaxis": {
            "gridcolor": "white",
            "linecolor": "white",
            "ticks": ""
           },
           "bgcolor": "#E5ECF6",
           "radialaxis": {
            "gridcolor": "white",
            "linecolor": "white",
            "ticks": ""
           }
          },
          "scene": {
           "xaxis": {
            "backgroundcolor": "#E5ECF6",
            "gridcolor": "white",
            "gridwidth": 2,
            "linecolor": "white",
            "showbackground": true,
            "ticks": "",
            "zerolinecolor": "white"
           },
           "yaxis": {
            "backgroundcolor": "#E5ECF6",
            "gridcolor": "white",
            "gridwidth": 2,
            "linecolor": "white",
            "showbackground": true,
            "ticks": "",
            "zerolinecolor": "white"
           },
           "zaxis": {
            "backgroundcolor": "#E5ECF6",
            "gridcolor": "white",
            "gridwidth": 2,
            "linecolor": "white",
            "showbackground": true,
            "ticks": "",
            "zerolinecolor": "white"
           }
          },
          "shapedefaults": {
           "line": {
            "color": "#2a3f5f"
           }
          },
          "ternary": {
           "aaxis": {
            "gridcolor": "white",
            "linecolor": "white",
            "ticks": ""
           },
           "baxis": {
            "gridcolor": "white",
            "linecolor": "white",
            "ticks": ""
           },
           "bgcolor": "#E5ECF6",
           "caxis": {
            "gridcolor": "white",
            "linecolor": "white",
            "ticks": ""
           }
          },
          "title": {
           "x": 0.05
          },
          "xaxis": {
           "automargin": true,
           "gridcolor": "white",
           "linecolor": "white",
           "ticks": "",
           "title": {
            "standoff": 15
           },
           "zerolinecolor": "white",
           "zerolinewidth": 2
          },
          "yaxis": {
           "automargin": true,
           "gridcolor": "white",
           "linecolor": "white",
           "ticks": "",
           "title": {
            "standoff": 15
           },
           "zerolinecolor": "white",
           "zerolinewidth": 2
          }
         }
        },
        "title": {
         "text": "<b>Distribution of p-values for comparison"
        },
        "width": 600,
        "xaxis": {
         "anchor": "y",
         "domain": [
          0,
          0.31999999999999995
         ],
         "title": {
          "text": "p-value"
         }
        },
        "xaxis2": {
         "anchor": "y2",
         "domain": [
          0.33999999999999997,
          0.6599999999999999
         ],
         "matches": "x",
         "title": {
          "text": "p-value"
         }
        },
        "xaxis3": {
         "anchor": "y3",
         "domain": [
          0.6799999999999999,
          0.9999999999999999
         ],
         "matches": "x",
         "title": {
          "text": "p-value"
         }
        },
        "yaxis": {
         "anchor": "x",
         "domain": [
          0,
          1
         ],
         "title": {
          "text": "probability"
         }
        },
        "yaxis2": {
         "anchor": "x2",
         "domain": [
          0,
          1
         ],
         "matches": "y",
         "showticklabels": false
        },
        "yaxis3": {
         "anchor": "x3",
         "domain": [
          0,
          1
         ],
         "matches": "y",
         "showticklabels": false
        }
       }
      }
     },
     "metadata": {},
     "output_type": "display_data"
    }
   ],
   "source": [
    "import plotly_express as px\n",
    "# plot the results in a facet graph\n",
    "fig2 = make_subplots(rows=1, cols=3,vertical_spacing=0.03, horizontal_spacing=.02, \n",
    "                shared_xaxes= True, shared_yaxes= True) \n",
    "batch_colors = ['rgb(31, 119, 180)', 'rgb(255, 127, 14)', 'rgb(44, 160, 44)']\n",
    "\n",
    "fig2 = px.histogram(df_combine, x=\"p-value\", color= 'Comparison',\n",
    "                histnorm='probability', color_discrete_sequence = batch_colors,\n",
    "                facet_col=\"Comparison\")    \n",
    "fig2.add_vline(x=0.05,  line_width=1, line_dash=\"dash\", line_color='rgb(214, 39, 40)')\n",
    "fig2.update_traces(xbins=dict(start=0, size = 0.05))\n",
    "fig2.for_each_annotation(lambda a: a.update(text=a.text.split(\"=\")[-1]))\n",
    "fig2.add_annotation(text= '0.05', x=0.05, y=-0.15,  font_color= 'rgb(214, 39, 40)',\n",
    "                xref=\"x\", yref=\"paper\", font_size=12, showarrow=False)\n",
    "fig2.add_annotation(text= '0.05', x=0.05, y=-0.15,  font_color= 'rgb(214, 39, 40)',\n",
    "                xref=\"x2\", yref=\"paper\", font_size=12, showarrow=False)\n",
    "fig2.add_annotation(text= '0.05', x=0.05, y=-0.15,  font_color= 'rgb(214, 39, 40)',\n",
    "                xref=\"x3\", yref=\"paper\", font_size=12, showarrow=False)\n",
    "fig2.update_layout(title_text=f\"<b>Distribution of p-values for comparison\", \n",
    "                        height=300, width=600, template='plotly', showlegend=False,\n",
    "                        bargap=0.1, margin = dict(l=20, r=2, t=50, b=2))\n",
    "fig2.show()"
   ]
  },
  {
   "cell_type": "markdown",
   "metadata": {},
   "source": [
    "### Interpretation\n",
    "If the samples originate from the same distribution, the probability distribution is expected to resemble (A vs A) or (B vs B). However, distinct differences in distribution shapes emerge when comparing (A vs A) or (B vs B) to (A vs B). Consequently, the observed dissimilarities strongly suggest a significant distinction between groupA and groupB."
   ]
  }
 ],
 "metadata": {
  "kernelspec": {
   "display_name": "NeuralStyleTransfer",
   "language": "python",
   "name": "python3"
  },
  "language_info": {
   "codemirror_mode": {
    "name": "ipython",
    "version": 3
   },
   "file_extension": ".py",
   "mimetype": "text/x-python",
   "name": "python",
   "nbconvert_exporter": "python",
   "pygments_lexer": "ipython3",
   "version": "3.7.9"
  }
 },
 "nbformat": 4,
 "nbformat_minor": 2
}
